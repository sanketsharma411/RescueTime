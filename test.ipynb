{
 "metadata": {
  "name": "",
  "signature": "sha256:5774dc4e1e5056d0476988e3340adcb4103d7b760d695993c2a1fb7ce9b207ae"
 },
 "nbformat": 3,
 "nbformat_minor": 0,
 "worksheets": [
  {
   "cells": [
    {
     "cell_type": "markdown",
     "metadata": {},
     "source": [
      "## RescueTime\n",
      "https://www.rescuetime.com/anapi/setup/documentation\n",
      "#### Reading Stuff from \n",
      "http://mattmazur.com/2009/09/27/one-thousand-hours-of-rescuetime-data-part-1-getting-started/"
     ]
    },
    {
     "cell_type": "code",
     "collapsed": false,
     "input": [
      "import urllib2,csv,json\n",
      "import dateutil.parser"
     ],
     "language": "python",
     "metadata": {},
     "outputs": [],
     "prompt_number": 1
    },
    {
     "cell_type": "code",
     "collapsed": false,
     "input": [
      "with open('API_KEY.txt','r') as f:\n",
      "    key = f.read()"
     ],
     "language": "python",
     "metadata": {},
     "outputs": [],
     "prompt_number": 20
    },
    {
     "cell_type": "code",
     "collapsed": false,
     "input": [
      "base_url = 'https://www.rescuetime.com/'\n",
      "request = 'anapi/data?rtapi_key='+key \n",
      "params = []\n",
      "params.append('&perspective=interval')\n",
      "params.append('&format=json')\n",
      "params.append('&resolution_time=hour')\n",
      "params.append('&restrict_kind=activity')\n",
      "params.append('&restrict_begin=2014-01-01&restrict_end=2015-02-13')\n",
      "url = base_url+request+''.join(params)\n",
      "data = urllib2.urlopen(base_url+request+''.join(params))"
     ],
     "language": "python",
     "metadata": {},
     "outputs": []
    },
    {
     "cell_type": "code",
     "collapsed": false,
     "input": [
      "data = json.load(data)"
     ],
     "language": "python",
     "metadata": {},
     "outputs": [],
     "prompt_number": 4
    },
    {
     "cell_type": "code",
     "collapsed": false,
     "input": [
      "data['row_headers']"
     ],
     "language": "python",
     "metadata": {},
     "outputs": [
      {
       "metadata": {},
       "output_type": "pyout",
       "prompt_number": 6,
       "text": [
        "[u'Date',\n",
        " u'Time Spent (seconds)',\n",
        " u'Number of People',\n",
        " u'Activity',\n",
        " u'Category',\n",
        " u'Productivity']"
       ]
      }
     ],
     "prompt_number": 6
    },
    {
     "cell_type": "code",
     "collapsed": false,
     "input": [
      "stuff = []\n",
      "for activity in data['rows']:\n",
      "    st_time = dateutil.parser.parse(activity[0])\n",
      "    timespent = activity[1]\n",
      "    people = activity[2]\n",
      "    name = activity[3]\n",
      "    cat = activity[4]\n",
      "    score = activity[5]\n",
      "    stuff.append({'st_time':st_time,'timespent':timespent,\\\n",
      "                     'people':people,\\\n",
      "                     'name':name,\\\n",
      "                     'cat':cat,\\\n",
      "                     'score':score})"
     ],
     "language": "python",
     "metadata": {},
     "outputs": [],
     "prompt_number": 7
    },
    {
     "cell_type": "code",
     "collapsed": false,
     "input": [
      "len(stuff)"
     ],
     "language": "python",
     "metadata": {},
     "outputs": [
      {
       "metadata": {},
       "output_type": "pyout",
       "prompt_number": 8,
       "text": [
        "14164"
       ]
      }
     ],
     "prompt_number": 8
    },
    {
     "cell_type": "code",
     "collapsed": false,
     "input": [
      "stuff[0]"
     ],
     "language": "python",
     "metadata": {},
     "outputs": [
      {
       "metadata": {},
       "output_type": "pyout",
       "prompt_number": 9,
       "text": [
        "{'cat': u'Email',\n",
        " 'name': u'Inbox by Gmail',\n",
        " 'people': 1,\n",
        " 'score': 0,\n",
        " 'st_time': datetime.datetime(2014, 11, 13, 0, 0),\n",
        " 'timespent': 69}"
       ]
      }
     ],
     "prompt_number": 9
    },
    {
     "cell_type": "code",
     "collapsed": false,
     "input": [
      "stuff[-1]"
     ],
     "language": "python",
     "metadata": {},
     "outputs": [
      {
       "metadata": {},
       "output_type": "pyout",
       "prompt_number": 10,
       "text": [
        "{'cat': u'Intelligence',\n",
        " 'name': u'RescueTime for Android',\n",
        " 'people': 1,\n",
        " 'score': 2,\n",
        " 'st_time': datetime.datetime(2015, 2, 13, 17, 0),\n",
        " 'timespent': 1}"
       ]
      }
     ],
     "prompt_number": 10
    },
    {
     "cell_type": "code",
     "collapsed": false,
     "input": [
      "# Max time single activity\n",
      "time_spent_sorted = sorted(stuff, key = lambda x:x['timespent'], reverse = True)"
     ],
     "language": "python",
     "metadata": {},
     "outputs": [],
     "prompt_number": 14
    },
    {
     "cell_type": "code",
     "collapsed": false,
     "input": [
      "time_spent_sorted[0:10]"
     ],
     "language": "python",
     "metadata": {},
     "outputs": [
      {
       "metadata": {},
       "output_type": "pyout",
       "prompt_number": 17,
       "text": [
        "[{'cat': u'Browsers',\n",
        "  'name': u'Google Chrome for Android',\n",
        "  'people': 1,\n",
        "  'score': -2,\n",
        "  'st_time': datetime.datetime(2015, 2, 10, 15, 0),\n",
        "  'timespent': 4426},\n",
        " {'cat': u'Uncategorized',\n",
        "  'name': u'mobile - com.ea.game.fifa15_row',\n",
        "  'people': 1,\n",
        "  'score': 0,\n",
        "  'st_time': datetime.datetime(2014, 11, 17, 4, 0),\n",
        "  'timespent': 3846},\n",
        " {'cat': u'Voice Chat',\n",
        "  'name': u'Voice Call Log',\n",
        "  'people': 1,\n",
        "  'score': 1,\n",
        "  'st_time': datetime.datetime(2015, 1, 10, 15, 0),\n",
        "  'timespent': 3773},\n",
        " {'cat': u'Music',\n",
        "  'name': u'Google Music Player for Android',\n",
        "  'people': 1,\n",
        "  'score': -2,\n",
        "  'st_time': datetime.datetime(2015, 2, 10, 15, 0),\n",
        "  'timespent': 3608},\n",
        " {'cat': u'Uncategorized',\n",
        "  'name': u'mobile - com.ea.game.fifa15_row',\n",
        "  'people': 1,\n",
        "  'score': 0,\n",
        "  'st_time': datetime.datetime(2014, 11, 20, 5, 0),\n",
        "  'timespent': 3600},\n",
        " {'cat': u'Search',\n",
        "  'name': u'Google Now',\n",
        "  'people': 1,\n",
        "  'score': 0,\n",
        "  'st_time': datetime.datetime(2014, 11, 24, 4, 0),\n",
        "  'timespent': 3600},\n",
        " {'cat': u'Search',\n",
        "  'name': u'Google Now',\n",
        "  'people': 1,\n",
        "  'score': 0,\n",
        "  'st_time': datetime.datetime(2014, 11, 24, 17, 0),\n",
        "  'timespent': 3600},\n",
        " {'cat': u'Search',\n",
        "  'name': u'Google Now',\n",
        "  'people': 1,\n",
        "  'score': 0,\n",
        "  'st_time': datetime.datetime(2014, 12, 9, 2, 0),\n",
        "  'timespent': 3600},\n",
        " {'cat': u'Search',\n",
        "  'name': u'Google Now',\n",
        "  'people': 1,\n",
        "  'score': 0,\n",
        "  'st_time': datetime.datetime(2014, 12, 11, 2, 0),\n",
        "  'timespent': 3600},\n",
        " {'cat': u'Games',\n",
        "  'name': u'civilizationv_dx11',\n",
        "  'people': 1,\n",
        "  'score': -2,\n",
        "  'st_time': datetime.datetime(2014, 12, 25, 0, 0),\n",
        "  'timespent': 3600}]"
       ]
      }
     ],
     "prompt_number": 17
    },
    {
     "cell_type": "code",
     "collapsed": false,
     "input": [],
     "language": "python",
     "metadata": {},
     "outputs": [],
     "prompt_number": 16
    },
    {
     "cell_type": "code",
     "collapsed": false,
     "input": [],
     "language": "python",
     "metadata": {},
     "outputs": []
    }
   ],
   "metadata": {}
  }
 ]
}