{
 "metadata": {
  "name": "",
  "signature": "sha256:32ba3e691f3792672cce578ef23345f9c599582eb52804a29114ae49f6047c93"
 },
 "nbformat": 3,
 "nbformat_minor": 0,
 "worksheets": [
  {
   "cells": [
    {
     "cell_type": "markdown",
     "metadata": {},
     "source": [
      "# RescueTime\n",
      "Tests with the RescueTime API"
     ]
    },
    {
     "cell_type": "markdown",
     "metadata": {},
     "source": [
      "### [Install RescueTime](http://www.rescuetime.com)\n",
      "Set it up on your PC, and mobile devices, and let it collect the data for a few days or weeks\n",
      "\n",
      "### [Create an API key](https://www.rescuetime.com/anapi/manage)\n",
      "At the bottom of the page enter some Reference Label, and click Activate this Key\n",
      "\n",
      "From the next screen copy the key\n",
      "\n",
      "\n",
      "### [RescueTime API Documentation](https://www.rescuetime.com/anapi/setup/documentation)\n",
      "Look up the documentation here if you like to\n",
      "\n",
      "#### Related\n",
      "There is also some related work done [here](http://mattmazur.com/2009/09/27/one-thousand-hours-of-rescuetime-data-part-1-getting-started/)"
     ]
    },
    {
     "cell_type": "code",
     "collapsed": false,
     "input": [
      "import urllib2,csv,json\n",
      "import dateutil.parser\n",
      "from collections import defaultdict\n",
      "import matplotlib.pyplot as plt\n",
      "%matplotlib inline"
     ],
     "language": "python",
     "metadata": {},
     "outputs": [],
     "prompt_number": 158
    },
    {
     "cell_type": "code",
     "collapsed": false,
     "input": [
      "with open('API_KEY.txt','r') as f:\n",
      "    key = f.read()"
     ],
     "language": "python",
     "metadata": {},
     "outputs": [],
     "prompt_number": 82
    },
    {
     "cell_type": "code",
     "collapsed": false,
     "input": [
      "# Querying RescueTime for the data\n",
      "base_url = 'https://www.rescuetime.com/'\n",
      "request = 'anapi/data?rtapi_key='+key \n",
      "params = []\n",
      "params.append('&perspective=interval')\n",
      "params.append('&format=json')\n",
      "params.append('&resolution_time=hour')\n",
      "params.append('&restrict_kind=activity')\n",
      "params.append('&restrict_begin=2014-01-01&restrict_end=2015-02-14')\n",
      "url = base_url+request+''.join(params)\n",
      "data = urllib2.urlopen(base_url+request+''.join(params))"
     ],
     "language": "python",
     "metadata": {},
     "outputs": [],
     "prompt_number": 89
    },
    {
     "cell_type": "code",
     "collapsed": false,
     "input": [
      "data = json.load(data)"
     ],
     "language": "python",
     "metadata": {},
     "outputs": [],
     "prompt_number": 84
    },
    {
     "cell_type": "code",
     "collapsed": false,
     "input": [
      "data['row_headers']"
     ],
     "language": "python",
     "metadata": {},
     "outputs": [
      {
       "metadata": {},
       "output_type": "pyout",
       "prompt_number": 85,
       "text": [
        "[u'Date',\n",
        " u'Time Spent (seconds)',\n",
        " u'Number of People',\n",
        " u'Activity',\n",
        " u'Category',\n",
        " u'Productivity']"
       ]
      }
     ],
     "prompt_number": 85
    },
    {
     "cell_type": "code",
     "collapsed": false,
     "input": [
      "# Saving the data\n",
      "with open('data_14_Feb.json','wb') as f:\n",
      "    json.dump(data,f)"
     ],
     "language": "python",
     "metadata": {},
     "outputs": [],
     "prompt_number": 87
    },
    {
     "cell_type": "code",
     "collapsed": false,
     "input": [
      "with open('data_14_Feb.json','r') as f:\n",
      "    data = json.load(f)"
     ],
     "language": "python",
     "metadata": {},
     "outputs": [],
     "prompt_number": 91
    },
    {
     "cell_type": "code",
     "collapsed": false,
     "input": [
      "# Formatting the Data, to avoid keeping track of indices for the data\n",
      "stuff = []\n",
      "for activity in data['rows']:\n",
      "    st_time = dateutil.parser.parse(activity[0])\n",
      "    time = activity[1]\n",
      "    people = activity[2]\n",
      "    name = activity[3]\n",
      "    cat = activity[4]\n",
      "    score = activity[5]\n",
      "    stuff.append({'st_time':st_time,'time':time,\\\n",
      "                     'people':people,\\\n",
      "                     'name':name,\\\n",
      "                     'cat':cat,\\\n",
      "                     'score':score})"
     ],
     "language": "python",
     "metadata": {},
     "outputs": [],
     "prompt_number": 92
    },
    {
     "cell_type": "code",
     "collapsed": false,
     "input": [
      "print 'Total Number of Activities=',len(stuff)\n"
     ],
     "language": "python",
     "metadata": {},
     "outputs": [
      {
       "output_type": "stream",
       "stream": "stdout",
       "text": [
        "Total Number of Activities= 14236\n"
       ]
      }
     ],
     "prompt_number": 93
    },
    {
     "cell_type": "code",
     "collapsed": false,
     "input": [
      "stuff[0]"
     ],
     "language": "python",
     "metadata": {},
     "outputs": []
    },
    {
     "cell_type": "code",
     "collapsed": true,
     "input": [
      "stuff[-1]"
     ],
     "language": "python",
     "metadata": {},
     "outputs": []
    },
    {
     "cell_type": "code",
     "collapsed": false,
     "input": [
      "# Max time single activity\n",
      "# Sorting by maximum time spent behind a single activity at a time\n",
      "time_spent_sorted = sorted(stuff, key = lambda x:x['time'], reverse = True)\n",
      "time_spent_sorted[0:10]"
     ],
     "language": "python",
     "metadata": {},
     "outputs": []
    },
    {
     "cell_type": "code",
     "collapsed": false,
     "input": [
      "# Activity vs total time\n",
      "# dict of type {keys:total time}\n",
      "act_time = defaultdict(int)\n",
      "for activity in stuff:\n",
      "    act_time[activity['name']] += activity['time']\n",
      "    \n",
      "sorted_stuff = sorted(act_time, key = lambda x:act_time[x], reverse = True)\n",
      "for one_stuff in sorted_stuff[:10]:\n",
      "    print act_time[one_stuff]/3600,'\\t\\t',one_stuff"
     ],
     "language": "python",
     "metadata": {},
     "outputs": []
    },
    {
     "cell_type": "code",
     "collapsed": false,
     "input": [],
     "language": "python",
     "metadata": {},
     "outputs": []
    },
    {
     "cell_type": "code",
     "collapsed": false,
     "input": [
      "# Accumulating by activity, i.e. combining the different activities by their name\n",
      "act_dict = {}\n",
      "'''\n",
      "Dict of {activity : {'total_time':int,\\\n",
      "                     'num_entries':int,\\\n",
      "                     'score':int,\\\n",
      "                     'cat':string,\\\n",
      "                     'start_times':[datetime_object]}}\n",
      "\n",
      "'''\n",
      "for act in stuff:\n",
      "    # Initialize\n",
      "    if act['name'] not in act_dict:\n",
      "        act_dict[act['name']] = {'total_time':0,\\\n",
      "                                 'num_entries':0,\\\n",
      "                                 'score':act['score'],\\\n",
      "                                 'cat':act['cat'],\\\n",
      "                                 'start_times':[]}\n",
      "    # Update\n",
      "    act_dict[act['name']]['total_time'] += act['time']\n",
      "    act_dict[act['name']]['num_entries']+= 1\n",
      "    act_dict[act['name']]['start_times'].append(act['st_time'])\n",
      "del act_dict['Google Now']"
     ],
     "language": "python",
     "metadata": {},
     "outputs": [],
     "prompt_number": 143
    },
    {
     "cell_type": "code",
     "collapsed": false,
     "input": [
      "#Testing\n",
      "i = 1234\n",
      "print act_dict.keys()[i]\n",
      "print act_dict[act_dict.keys()[i]]['cat']\n",
      "print act_dict[act_dict.keys()[i]]['num_entries']\n",
      "print act_dict[act_dict.keys()[i]]['score']\n",
      "print act_dict[act_dict.keys()[i]]['start_times']\n",
      "print act_dict[act_dict.keys()[i]]['total_time']"
     ],
     "language": "python",
     "metadata": {},
     "outputs": []
    },
    {
     "cell_type": "code",
     "collapsed": false,
     "input": [
      "# Keep Coming Back\n",
      "# Acitvities sorted by the number of times started\n",
      "act_sorted_num_starts = sorted(act_dict.items(), key = lambda x:x[1]['num_entries'],reverse = True)\n",
      "[(act[0],act[1]['num_entries']) for act in act_sorted_num_starts[:10]]"
     ],
     "language": "python",
     "metadata": {},
     "outputs": []
    },
    {
     "cell_type": "markdown",
     "metadata": {},
     "source": [
      "# To Do\n",
      "#### Custer by start time\n",
      "\n",
      "Saying that these activities are usually started around the same time of the day\n",
      "\n",
      "or started togethere most of the times\n",
      "\n",
      "Maybe create a, graph edges based on what if they are started around the same time [crude: started at the same time]\n",
      "\n",
      "weight the edges by the number if times they have been started within an hour of each other [or some other time threshold]\n",
      "\n",
      "#### time spent on activity based on starting time\n",
      "## Everything applied to actuivity can be extended similarly to activity category and score"
     ]
    },
    {
     "cell_type": "code",
     "collapsed": false,
     "input": [
      "# top activity fora each hour of the day\n",
      "#{hour of day : {activity:count_of_number_of_times_it was started in that hour} }"
     ],
     "language": "python",
     "metadata": {},
     "outputs": [],
     "prompt_number": 252
    },
    {
     "cell_type": "code",
     "collapsed": false,
     "input": [
      "act_dict[act_dict.keys()[99]]['start_times'][0].hour"
     ],
     "language": "python",
     "metadata": {},
     "outputs": [
      {
       "metadata": {},
       "output_type": "pyout",
       "prompt_number": 148,
       "text": [
        "22"
       ]
      }
     ],
     "prompt_number": 148
    },
    {
     "cell_type": "code",
     "collapsed": false,
     "input": [
      "st_time_act_dict = {}\n",
      "for act in act_dict:\n",
      "    for start_time in act_dict[act]['start_times']:\n",
      "        hour = start_time.hour\n",
      "        if start_time.hour not in st_time_act_dict:\n",
      "            st_time_act_dict[hour] = defaultdict(int)\n",
      "        st_time_act_dict[hour][act] += 1 \n",
      "    "
     ],
     "language": "python",
     "metadata": {},
     "outputs": [],
     "prompt_number": 149
    },
    {
     "cell_type": "code",
     "collapsed": false,
     "input": [
      "sorted_st_time_act_dict = {}\n",
      "for start_time in st_time_act_dict:\n",
      "    sorted_st_time_act_dict[start_time] = sorted(st_time_act_dict[start_time].items(), key = lambda x:x[1],reverse = True)\n",
      "    "
     ],
     "language": "python",
     "metadata": {},
     "outputs": [],
     "prompt_number": 150
    },
    {
     "cell_type": "code",
     "collapsed": false,
     "input": [
      "for i in range(0,24):\n",
      "    print '\\n================================================='+str(i)+'=================================================\\n'\n",
      "    print '\\n'.join([str(act_num[1])+'\\t\\t'+act_num[0] for act_num in sorted_st_time_act_dict[i][:10]])\n",
      "    "
     ],
     "language": "python",
     "metadata": {},
     "outputs": []
    },
    {
     "cell_type": "markdown",
     "metadata": {},
     "source": [
      "### Hourly ranking of [activity,productivity,category] dictionary ??"
     ]
    },
    {
     "cell_type": "code",
     "collapsed": false,
     "input": [
      "act_rank_dict = {}\n",
      "for act in act_dict:\n",
      "    act_rank_dict[act] = []\n",
      "    for start_time in st_time_act_dict:\n",
      "        st_time_act_dict[act]\n",
      "    "
     ],
     "language": "python",
     "metadata": {},
     "outputs": []
    },
    {
     "cell_type": "code",
     "collapsed": false,
     "input": [
      "st_time_act_dict.keys()"
     ],
     "language": "python",
     "metadata": {},
     "outputs": [
      {
       "metadata": {},
       "output_type": "pyout",
       "prompt_number": 154,
       "text": [
        "[0,\n",
        " 1,\n",
        " 2,\n",
        " 3,\n",
        " 4,\n",
        " 5,\n",
        " 6,\n",
        " 7,\n",
        " 8,\n",
        " 9,\n",
        " 10,\n",
        " 11,\n",
        " 12,\n",
        " 13,\n",
        " 14,\n",
        " 15,\n",
        " 16,\n",
        " 17,\n",
        " 18,\n",
        " 19,\n",
        " 20,\n",
        " 21,\n",
        " 22,\n",
        " 23]"
       ]
      }
     ],
     "prompt_number": 154
    },
    {
     "cell_type": "code",
     "collapsed": false,
     "input": [
      "act_hour_num_dict = {}\n",
      "hour_num_act_dict = dict.fromkeys(range(0,24),0)\n",
      "for act in act_dict:\n",
      "    act_hour_num_dict[act] = defaultdict(int)\n",
      "    for st_time in act_dict[act]['start_times']:\n",
      "        act_hour_num_dict[act][st_time.hour]+=1\n",
      "        hour_num_act_dict[st_time.hour] += 1"
     ],
     "language": "python",
     "metadata": {},
     "outputs": [],
     "prompt_number": 166
    },
    {
     "cell_type": "code",
     "collapsed": false,
     "input": [
      "# Top 10 most started applications\n",
      "[(act[0],act[1]['num_entries']) for act in act_sorted_num_starts[:10]]"
     ],
     "language": "python",
     "metadata": {},
     "outputs": []
    },
    {
     "cell_type": "code",
     "collapsed": false,
     "input": [
      "plt.plot(act_hour_num_dict['pythonw'].values()); plt.show()"
     ],
     "language": "python",
     "metadata": {},
     "outputs": [],
     "prompt_number": 164
    },
    {
     "cell_type": "code",
     "collapsed": false,
     "input": [
      "avg_activities_started_daily = [val*11*20.0/sum(hour_num_act_dict.values()) for val in hour_num_act_dict.values()]\n",
      "plt.plot(avg_activities_started_daily,'kx-'); \n",
      "plt.plot(act_hour_num_dict['pythonw'].values(),'rx-'); \n",
      "plt.plot(act_hour_num_dict['9gag.com'].values(),'gx-'); \n",
      "plt.plot(act_hour_num_dict['facebook.com'].values(),'bx-'); \n",
      "plt.plot(act_hour_num_dict['inbox.google.com'].values(),'yx-'); \n",
      "plt.show()"
     ],
     "language": "python",
     "metadata": {},
     "outputs": [
      {
       "metadata": {},
       "output_type": "display_data",
       "png": "[encoded data removed]",
       "text": [
        "<matplotlib.figure.Figure at 0x45ed6d8>"
       ]
      }
     ],
     "prompt_number": 253
    },
    {
     "cell_type": "code",
     "collapsed": false,
     "input": [
      "avg_activities_started_daily = [val*11*20.0/sum(hour_num_act_dict.values()) for val in hour_num_act_dict.values()]\n",
      "#plt.plot(avg_activities_started_daily,'kx-'); \n",
      "plt.plot(act_hour_num_dict['pythonw'].values(),'rx-'); \n",
      "plt.plot(act_hour_num_dict['Voice Call Log'].values(),'gx-'); \n",
      "plt.plot(act_hour_num_dict['civilizationv_dx11'].values(),'bx-'); \n",
      "plt.plot(act_hour_num_dict['inbox.google.com'].values(),'yx-'); \n",
      "plt.show()"
     ],
     "language": "python",
     "metadata": {},
     "outputs": [
      {
       "metadata": {},
       "output_type": "display_data",
       "png": "[encoded data removed]",
       "text": [
        "<matplotlib.figure.Figure at 0x76cec18>"
       ]
      }
     ],
     "prompt_number": 254
    },
    {
     "cell_type": "code",
     "collapsed": false,
     "input": [
      "act_dict['civilizationv_dx11']"
     ],
     "language": "python",
     "metadata": {},
     "outputs": []
    },
    {
     "cell_type": "code",
     "collapsed": false,
     "input": [
      "score_hour_num_dict = {}\n",
      "for act in act_hour_num_dict:\n",
      "    score = int(act_dict[act]['score'])\n",
      "    if score not in score_hour_num_dict:\n",
      "        score_hour_num_dict[score] = dict.fromkeys(range(0,24),0)\n",
      "    for hour in act_hour_num_dict[act]:\n",
      "        score_hour_num_dict[score][hour] +=act_hour_num_dict[act][hour]"
     ],
     "language": "python",
     "metadata": {},
     "outputs": [],
     "prompt_number": 232
    },
    {
     "cell_type": "code",
     "collapsed": false,
     "input": [
      "score_hour_num = {k:v.values() for k,v in score_hour_num_dict.items()}"
     ],
     "language": "python",
     "metadata": {},
     "outputs": [],
     "prompt_number": 237
    },
    {
     "cell_type": "code",
     "collapsed": false,
     "input": [
      "plt.plot(score_hour_num[-2],'rx-');\n",
      "plt.plot(score_hour_num[-1],'mx-');\n",
      "plt.plot(score_hour_num[0],'cx-');\n",
      "plt.plot(score_hour_num[1],'bx-');\n",
      "plt.plot(score_hour_num[2],'gx-');\n",
      "plt.show()"
     ],
     "language": "python",
     "metadata": {},
     "outputs": [
      {
       "metadata": {},
       "output_type": "display_data",
       "png": "[encoded data removed]",
       "text": [
        "<matplotlib.figure.Figure at 0x5fb2ba8>"
       ]
      }
     ],
     "prompt_number": 251
    },
    {
     "cell_type": "code",
     "collapsed": false,
     "input": [],
     "language": "python",
     "metadata": {},
     "outputs": [],
     "prompt_number": 250
    },
    {
     "cell_type": "code",
     "collapsed": false,
     "input": [],
     "language": "python",
     "metadata": {},
     "outputs": []
    }
   ],
   "metadata": {}
  }
 ]
}