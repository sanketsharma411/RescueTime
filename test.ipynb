{
 "metadata": {
  "name": "",
  "signature": "sha256:f59ebbbc3213f24a869998ded09002a314409d8093b55282cb0bf3d8ec6da34a"
 },
 "nbformat": 3,
 "nbformat_minor": 0,
 "worksheets": [
  {
   "cells": [
    {
     "cell_type": "markdown",
     "metadata": {},
     "source": [
      "## RescueTime\n",
      "https://www.rescuetime.com/anapi/setup/documentation\n",
      "#### Related stuff on\n",
      "http://mattmazur.com/2009/09/27/one-thousand-hours-of-rescuetime-data-part-1-getting-started/"
     ]
    },
    {
     "cell_type": "code",
     "collapsed": false,
     "input": [
      "import urllib2,csv,json\n",
      "import dateutil.parser"
     ],
     "language": "python",
     "metadata": {},
     "outputs": [],
     "prompt_number": 1
    },
    {
     "cell_type": "code",
     "collapsed": false,
     "input": [
      "with open('API_KEY.txt','r') as f:\n",
      "    key = f.read()"
     ],
     "language": "python",
     "metadata": {},
     "outputs": [],
     "prompt_number": 20
    },
    {
     "cell_type": "code",
     "collapsed": false,
     "input": [
      "base_url = 'https://www.rescuetime.com/'\n",
      "request = 'anapi/data?rtapi_key='+key \n",
      "params = []\n",
      "params.append('&perspective=interval')\n",
      "params.append('&format=json')\n",
      "params.append('&resolution_time=hour')\n",
      "params.append('&restrict_kind=activity')\n",
      "params.append('&restrict_begin=2014-01-01&restrict_end=2015-02-13')\n",
      "url = base_url+request+''.join(params)\n",
      "data = urllib2.urlopen(base_url+request+''.join(params))"
     ],
     "language": "python",
     "metadata": {},
     "outputs": [],
     "prompt_number": 23
    },
    {
     "cell_type": "code",
     "collapsed": false,
     "input": [
      "data = json.load(data)"
     ],
     "language": "python",
     "metadata": {},
     "outputs": [],
     "prompt_number": 4
    },
    {
     "cell_type": "code",
     "collapsed": false,
     "input": [
      "data['row_headers']"
     ],
     "language": "python",
     "metadata": {},
     "outputs": [
      {
       "metadata": {},
       "output_type": "pyout",
       "prompt_number": 6,
       "text": [
        "[u'Date',\n",
        " u'Time Spent (seconds)',\n",
        " u'Number of People',\n",
        " u'Activity',\n",
        " u'Category',\n",
        " u'Productivity']"
       ]
      }
     ],
     "prompt_number": 6
    },
    {
     "cell_type": "code",
     "collapsed": false,
     "input": [
      "stuff = []\n",
      "for activity in data['rows']:\n",
      "    st_time = dateutil.parser.parse(activity[0])\n",
      "    timespent = activity[1]\n",
      "    people = activity[2]\n",
      "    name = activity[3]\n",
      "    cat = activity[4]\n",
      "    score = activity[5]\n",
      "    stuff.append({'st_time':st_time,'timespent':timespent,\\\n",
      "                     'people':people,\\\n",
      "                     'name':name,\\\n",
      "                     'cat':cat,\\\n",
      "                     'score':score})"
     ],
     "language": "python",
     "metadata": {},
     "outputs": [],
     "prompt_number": 7
    },
    {
     "cell_type": "code",
     "collapsed": false,
     "input": [
      "len(stuff)"
     ],
     "language": "python",
     "metadata": {},
     "outputs": [
      {
       "metadata": {},
       "output_type": "pyout",
       "prompt_number": 8,
       "text": [
        "14164"
       ]
      }
     ],
     "prompt_number": 8
    },
    {
     "cell_type": "code",
     "collapsed": false,
     "input": [
      "stuff[0]"
     ],
     "language": "python",
     "metadata": {},
     "outputs": []
    },
    {
     "cell_type": "code",
     "collapsed": false,
     "input": [
      "stuff[-1]"
     ],
     "language": "python",
     "metadata": {},
     "outputs": []
    },
    {
     "cell_type": "code",
     "collapsed": false,
     "input": [
      "# Max time single activity\n",
      "time_spent_sorted = sorted(stuff, key = lambda x:x['timespent'], reverse = True)"
     ],
     "language": "python",
     "metadata": {},
     "outputs": [],
     "prompt_number": 14
    },
    {
     "cell_type": "code",
     "collapsed": false,
     "input": [
      "time_spent_sorted[0:10]"
     ],
     "language": "python",
     "metadata": {},
     "outputs": [],
     "prompt_number": 16
    },
    {
     "cell_type": "code",
     "collapsed": false,
     "input": [],
     "language": "python",
     "metadata": {},
     "outputs": []
    }
   ],
   "metadata": {}
  }
 ]
}