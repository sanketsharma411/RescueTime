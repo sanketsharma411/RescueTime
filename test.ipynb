{
 "metadata": {
  "name": "",
  "signature": "sha256:c3d2365175931ff8ec4afa5de66de0c5da104dcbfbb61ce1e7bb863ed492ca54"
 },
 "nbformat": 3,
 "nbformat_minor": 0,
 "worksheets": [
  {
   "cells": [
    {
     "cell_type": "markdown",
     "metadata": {},
     "source": [
      "# RescueTime\n",
      "Tests with the RescueTime API"
     ]
    },
    {
     "cell_type": "markdown",
     "metadata": {},
     "source": [
      "### [Install RescueTime](http://www.rescuetime.com)\n",
      "Set it up on your PC, and mobile devices, and let it collect the data for a few days or weeks\n",
      "\n",
      "### [Create an API key](https://www.rescuetime.com/anapi/manage)\n",
      "At the bottom of the page enter some Reference Label, and click Activate this Key\n",
      "\n",
      "From the next screen copy the key\n",
      "\n",
      "\n",
      "### [RescueTime API Documentation](https://www.rescuetime.com/anapi/setup/documentation)\n",
      "Look up the documentation here if you like to\n",
      "\n",
      "#### Related\n",
      "There is also some related work done [here](http://mattmazur.com/2009/09/27/one-thousand-hours-of-rescuetime-data-part-1-getting-started/)"
     ]
    },
    {
     "cell_type": "code",
     "collapsed": true,
     "input": [
      "import urllib2,csv,json\n",
      "import dateutil.parser\n",
      "from collections import defaultdict\n",
      "import matplotlib.pyplot as plt\n",
      "import numpy as np\n",
      "#%matplotlib inline"
     ],
     "language": "python",
     "metadata": {},
     "outputs": [],
     "prompt_number": 1
    },
    {
     "cell_type": "code",
     "collapsed": true,
     "input": [
      "with open('API_KEY.txt','r') as f:\n",
      "    key = f.read()"
     ],
     "language": "python",
     "metadata": {},
     "outputs": [],
     "prompt_number": 2
    },
    {
     "cell_type": "code",
     "collapsed": true,
     "input": [
      "# Querying RescueTime for the data\n",
      "base_url = 'https://www.rescuetime.com/'\n",
      "request = 'anapi/data?rtapi_key='+key \n",
      "params = []\n",
      "params.append('&perspective=interval')\n",
      "params.append('&format=json')\n",
      "params.append('&resolution_time=minute')\n",
      "params.append('&restrict_kind=activity')\n",
      "params.append('&restrict_begin=2014-01-01&restrict_end=2015-02-14')\n",
      "url = base_url+request+''.join(params)\n",
      "data = urllib2.urlopen(base_url+request+''.join(params))"
     ],
     "language": "python",
     "metadata": {},
     "outputs": [],
     "prompt_number": 3
    },
    {
     "cell_type": "code",
     "collapsed": true,
     "input": [
      "data = json.load(data)"
     ],
     "language": "python",
     "metadata": {},
     "outputs": [],
     "prompt_number": 4
    },
    {
     "cell_type": "code",
     "collapsed": true,
     "input": [
      "print len(data)\n",
      "data['row_headers']"
     ],
     "language": "python",
     "metadata": {},
     "outputs": [
      {
       "output_type": "stream",
       "stream": "stdout",
       "text": [
        "3\n"
       ]
      },
      {
       "metadata": {},
       "output_type": "pyout",
       "prompt_number": 5,
       "text": [
        "[u'Date',\n",
        " u'Time Spent (seconds)',\n",
        " u'Number of People',\n",
        " u'Activity',\n",
        " u'Category',\n",
        " u'Productivity']"
       ]
      }
     ],
     "prompt_number": 5
    },
    {
     "cell_type": "code",
     "collapsed": true,
     "input": [
      "# Saving the data\n",
      "with open('data_7_Apr.json','wb') as f:\n",
      "    json.dump(data,f)"
     ],
     "language": "python",
     "metadata": {},
     "outputs": [],
     "prompt_number": 6
    },
    {
     "cell_type": "code",
     "collapsed": true,
     "input": [
      "with open('data_7_Apr.json','r') as f:\n",
      "    data = json.load(f)"
     ],
     "language": "python",
     "metadata": {},
     "outputs": [],
     "prompt_number": 2
    },
    {
     "cell_type": "markdown",
     "metadata": {},
     "source": [
      "## Cleaning\n",
      "#### Sometimes it returns more than 3600 time spent behind one activity, and sometimes it breaks the activity into multiple ones\n",
      "#### Maybe thats the data cleaning which needs to be done here !!"
     ]
    },
    {
     "cell_type": "code",
     "collapsed": true,
     "input": [
      "# Formatting the Data, to avoid keeping track of indices for the data\n",
      "stuff = []\n",
      "for activity in data['rows']:\n",
      "    st_time = dateutil.parser.parse(activity[0])\n",
      "    time = activity[1]\n",
      "    people = activity[2]\n",
      "    name = activity[3]\n",
      "    cat = activity[4]\n",
      "    score = activity[5]\n",
      "    stuff.append({'st_time':st_time,\\\n",
      "                     'time':time,\\\n",
      "                     'people':people,\\\n",
      "                     'name':name,\\\n",
      "                     'cat':cat,\\\n",
      "                     'score':score})"
     ],
     "language": "python",
     "metadata": {},
     "outputs": [],
     "prompt_number": 3
    },
    {
     "cell_type": "code",
     "collapsed": true,
     "input": [
      "print 'Total Number of Activities=',len(stuff)\n"
     ],
     "language": "python",
     "metadata": {},
     "outputs": [
      {
       "output_type": "stream",
       "stream": "stdout",
       "text": [
        "Total Number of Activities= 16569\n"
       ]
      }
     ],
     "prompt_number": 4
    },
    {
     "cell_type": "code",
     "collapsed": true,
     "input": [
      "stuff[0]"
     ],
     "language": "python",
     "metadata": {},
     "outputs": [
      {
       "metadata": {},
       "output_type": "pyout",
       "prompt_number": 5,
       "text": [
        "{'cat': u'General Software Development',\n",
        " 'name': u'pythonw',\n",
        " 'people': 1,\n",
        " 'score': 2,\n",
        " 'st_time': datetime.datetime(2015, 1, 7, 0, 0),\n",
        " 'time': 157}"
       ]
      }
     ],
     "prompt_number": 5
    },
    {
     "cell_type": "code",
     "collapsed": false,
     "input": [
      "stuff[-1]"
     ],
     "language": "python",
     "metadata": {},
     "outputs": [
      {
       "metadata": {},
       "output_type": "pyout",
       "prompt_number": 6,
       "text": [
        "{'cat': u'Search',\n",
        " 'name': u'Google Now',\n",
        " 'people': 1,\n",
        " 'score': 0,\n",
        " 'st_time': datetime.datetime(2015, 2, 14, 23, 55),\n",
        " 'time': 2}"
       ]
      }
     ],
     "prompt_number": 6
    },
    {
     "cell_type": "code",
     "collapsed": true,
     "input": [
      "# Max time single activity\n",
      "# Sorting by maximum time spent behind a single activity at a time\n",
      "time_spent_sorted = sorted(stuff, key = lambda x:x['time'], reverse = True)\n",
      "time_spent_sorted[0:10]"
     ],
     "language": "python",
     "metadata": {},
     "outputs": []
    },
    {
     "cell_type": "code",
     "collapsed": true,
     "input": [
      "# Activity vs total time\n",
      "# dict of type {keys:total time}\n",
      "act_time = defaultdict(int)\n",
      "for activity in stuff:\n",
      "    act_time[activity['name']] += activity['time']\n",
      "    \n",
      "sorted_stuff = sorted(act_time, key = lambda x:act_time[x], reverse = True)\n",
      "for one_stuff in sorted_stuff[:10]:\n",
      "    print act_time[one_stuff]/3600,'\\t\\t',one_stuff"
     ],
     "language": "python",
     "metadata": {},
     "outputs": []
    },
    {
     "cell_type": "code",
     "collapsed": true,
     "input": [],
     "language": "python",
     "metadata": {},
     "outputs": [],
     "prompt_number": 13
    },
    {
     "cell_type": "code",
     "collapsed": true,
     "input": [
      "# Accumulating by activity, i.e. combining the different activities by their name\n",
      "act_dict = {}\n",
      "'''\n",
      "Dict of {activity : {'total_time':int,\\\n",
      "                     'num_entries':int,\\\n",
      "                     'score':int,\\\n",
      "                     'cat':string,\\\n",
      "                     'start_times':[datetime_object]}}\n",
      "\n",
      "'''\n",
      "for act in stuff:\n",
      "    # Initialize\n",
      "    if act['name'] not in act_dict:\n",
      "        act_dict[act['name']] = {'total_time':0,\\\n",
      "                                 'num_entries':0,\\\n",
      "                                 'score':act['score'],\\\n",
      "                                 'cat':act['cat'],\\\n",
      "                                 'start_times':[]}\n",
      "    # Update\n",
      "    act_dict[act['name']]['total_time'] += act['time']\n",
      "    act_dict[act['name']]['num_entries']+= 1\n",
      "    act_dict[act['name']]['start_times'].append(act['st_time'])\n",
      "del act_dict['Google Now']"
     ],
     "language": "python",
     "metadata": {},
     "outputs": [],
     "prompt_number": 14
    },
    {
     "cell_type": "code",
     "collapsed": true,
     "input": [
      "#Testing\n",
      "i = 1234\n",
      "print act_dict.keys()[i]\n",
      "print act_dict[act_dict.keys()[i]]['cat']\n",
      "print act_dict[act_dict.keys()[i]]['num_entries']\n",
      "print act_dict[act_dict.keys()[i]]['score']\n",
      "print act_dict[act_dict.keys()[i]]['start_times']\n",
      "print act_dict[act_dict.keys()[i]]['total_time']"
     ],
     "language": "python",
     "metadata": {},
     "outputs": []
    },
    {
     "cell_type": "code",
     "collapsed": true,
     "input": [
      "# Keep Coming Back\n",
      "# Acitvities sorted by the number of times started\n",
      "act_sorted_num_starts = sorted(act_dict.items(), key = lambda x:x[1]['num_entries'],reverse = True)\n",
      "[(act[0],act[1]['num_entries']) for act in act_sorted_num_starts[:10]]"
     ],
     "language": "python",
     "metadata": {},
     "outputs": [
      {
       "metadata": {},
       "output_type": "pyout",
       "prompt_number": 16,
       "text": [
        "[(u'Windows Explorer', 1654),\n",
        " (u'google.com', 930),\n",
        " (u'localhost:8888', 686),\n",
        " (u'Voice Call Log', 616),\n",
        " (u'NotePad++', 593),\n",
        " (u'Google Chrome', 507),\n",
        " (u'youtube.com', 444),\n",
        " (u'Windows Media Player', 368),\n",
        " (u'inbox.google.com', 331),\n",
        " (u'facebook.com', 316)]"
       ]
      }
     ],
     "prompt_number": 16
    },
    {
     "cell_type": "markdown",
     "metadata": {},
     "source": [
      "# To Do\n",
      "#### Custer by start time\n",
      "\n",
      "Saying that these activities are usually started around the same time of the day\n",
      "\n",
      "or started togethere most of the times\n",
      "\n",
      "Maybe create a, graph edges based on what if they are started around the same time [crude: started at the same time]\n",
      "\n",
      "weight the edges by the number if times they have been started within an hour of each other [or some other time threshold]\n",
      "\n",
      "#### time spent on activity based on starting time\n",
      "## Everything applied to actuivity can be extended similarly to activity category and score"
     ]
    },
    {
     "cell_type": "code",
     "collapsed": true,
     "input": [
      "# top activity fora each hour of the day\n",
      "#{hour of day : {activity:count_of_number_of_times_it was started in that hour} }"
     ],
     "language": "python",
     "metadata": {},
     "outputs": [],
     "prompt_number": 17
    },
    {
     "cell_type": "code",
     "collapsed": true,
     "input": [
      "act_dict[act_dict.keys()[99]]['start_times'][0].hour"
     ],
     "language": "python",
     "metadata": {},
     "outputs": [
      {
       "metadata": {},
       "output_type": "pyout",
       "prompt_number": 18,
       "text": [
        "16"
       ]
      }
     ],
     "prompt_number": 18
    },
    {
     "cell_type": "code",
     "collapsed": true,
     "input": [
      "st_time_act_dict = {}\n",
      "for act in act_dict:\n",
      "    for start_time in act_dict[act]['start_times']:\n",
      "        hour = start_time.hour\n",
      "        if start_time.hour not in st_time_act_dict:\n",
      "            st_time_act_dict[hour] = defaultdict(int)\n",
      "        st_time_act_dict[hour][act] += 1 \n",
      "    "
     ],
     "language": "python",
     "metadata": {},
     "outputs": [],
     "prompt_number": 19
    },
    {
     "cell_type": "code",
     "collapsed": true,
     "input": [
      "sorted_st_time_act_dict = {}\n",
      "for start_time in st_time_act_dict:\n",
      "    sorted_st_time_act_dict[start_time] = sorted(st_time_act_dict[start_time].items(), key = lambda x:x[1],reverse = True)\n",
      "    "
     ],
     "language": "python",
     "metadata": {},
     "outputs": [],
     "prompt_number": 20
    },
    {
     "cell_type": "code",
     "collapsed": true,
     "input": [
      "for i in range(0,24):\n",
      "    print '\\n================================================='+str(i)+'=================================================\\n'\n",
      "    print '\\n'.join([str(act_num[1])+'\\t\\t'+act_num[0] for act_num in sorted_st_time_act_dict[i][:10]])\n",
      "    "
     ],
     "language": "python",
     "metadata": {},
     "outputs": []
    },
    {
     "cell_type": "markdown",
     "metadata": {},
     "source": [
      "### Hourly ranking of [activity,productivity,category] dictionary ??"
     ]
    },
    {
     "cell_type": "code",
     "collapsed": true,
     "input": [
      "'''\n",
      "act_rank_dict = {}\n",
      "for act in act_dict:\n",
      "    act_rank_dict[act] = []\n",
      "    for start_time in st_time_act_dict:\n",
      "        st_time_act_dict[act]\n",
      "'''    "
     ],
     "language": "python",
     "metadata": {},
     "outputs": [
      {
       "metadata": {},
       "output_type": "pyout",
       "prompt_number": 22,
       "text": [
        "'\\nact_rank_dict = {}\\nfor act in act_dict:\\n    act_rank_dict[act] = []\\n    for start_time in st_time_act_dict:\\n        st_time_act_dict[act]\\n'"
       ]
      }
     ],
     "prompt_number": 22
    },
    {
     "cell_type": "code",
     "collapsed": true,
     "input": [
      "st_time_act_dict.keys()"
     ],
     "language": "python",
     "metadata": {},
     "outputs": []
    },
    {
     "cell_type": "code",
     "collapsed": true,
     "input": [
      "act_hour_num_dict = {}\n",
      "hour_num_act_dict = dict.fromkeys(range(0,24),0)\n",
      "for act in act_dict:\n",
      "    act_hour_num_dict[act] = defaultdict(int)\n",
      "    for st_time in act_dict[act]['start_times']:\n",
      "        act_hour_num_dict[act][st_time.hour]+=1\n",
      "        hour_num_act_dict[st_time.hour] += 1"
     ],
     "language": "python",
     "metadata": {},
     "outputs": [],
     "prompt_number": 24
    },
    {
     "cell_type": "code",
     "collapsed": false,
     "input": [
      "act_hour_num_dict = {}\n",
      "hour_num_act_dict = dict.fromkeys(range(0,24),0)\n",
      "for act in act_dict:\n",
      "    act_hour_num_dict[act] = defaultdict(int)\n",
      "    for st_time in act_dict[act]['start_times']:\n",
      "        act_hour_num_dict[act][(st_time.hour)]+=1\n",
      "        hour_num_act_dict[st_time.hour] += 1\n",
      "plt.plot(act_hour_num_dict['Windows Explorer'].values(),'r-'); plt.show()"
     ],
     "language": "python",
     "metadata": {},
     "outputs": [
      {
       "metadata": {},
       "output_type": "display_data",
       "png": "[encoded data removed]",
       "text": [
        "<matplotlib.figure.Figure at 0x8dff668>"
       ]
      }
     ],
     "prompt_number": 25
    },
    {
     "cell_type": "code",
     "collapsed": true,
     "input": [
      "# Top 10 most started applications\n",
      "[(act[0],act[1]['num_entries']) for act in act_sorted_num_starts[:10]]"
     ],
     "language": "python",
     "metadata": {},
     "outputs": [
      {
       "metadata": {},
       "output_type": "pyout",
       "prompt_number": 26,
       "text": [
        "[(u'Windows Explorer', 1654),\n",
        " (u'google.com', 930),\n",
        " (u'localhost:8888', 686),\n",
        " (u'Voice Call Log', 616),\n",
        " (u'NotePad++', 593),\n",
        " (u'Google Chrome', 507),\n",
        " (u'youtube.com', 444),\n",
        " (u'Windows Media Player', 368),\n",
        " (u'inbox.google.com', 331),\n",
        " (u'facebook.com', 316)]"
       ]
      }
     ],
     "prompt_number": 26
    },
    {
     "cell_type": "code",
     "collapsed": true,
     "input": [
      "plt.plot(act_hour_num_dict['pythonw'].values()); plt.show()"
     ],
     "language": "python",
     "metadata": {},
     "outputs": [
      {
       "metadata": {},
       "output_type": "display_data",
       "png": "[encoded data removed]",
       "text": [
        "<matplotlib.figure.Figure at 0x91e61d0>"
       ]
      }
     ],
     "prompt_number": 43
    },
    {
     "cell_type": "code",
     "collapsed": true,
     "input": [
      "avg_activities_started_daily = [val*11*20.0/sum(hour_num_act_dict.values()) for val in hour_num_act_dict.values()]\n",
      "plt.plot(avg_activities_started_daily,'kx-'); \n",
      "plt.plot(act_hour_num_dict['pythonw'].values(),'rx-'); \n",
      "plt.plot(act_hour_num_dict['9gag.com'].values(),'gx-'); \n",
      "plt.plot(act_hour_num_dict['facebook.com'].values(),'bx-'); \n",
      "plt.plot(act_hour_num_dict['inbox.google.com'].values(),'yx-'); \n",
      "plt.show()"
     ],
     "language": "python",
     "metadata": {},
     "outputs": [
      {
       "metadata": {},
       "output_type": "display_data",
       "png": "[encoded data removed]",
       "text": [
        "<matplotlib.figure.Figure at 0x8fef7f0>"
       ]
      }
     ],
     "prompt_number": 28
    },
    {
     "cell_type": "code",
     "collapsed": true,
     "input": [
      "avg_activities_started_daily = [val*11*20.0/sum(hour_num_act_dict.values()) for val in hour_num_act_dict.values()]\n",
      "#plt.plot(avg_activities_started_daily,'kx-'); \n",
      "plt.plot(act_hour_num_dict['pythonw'].values(),'rx-'); \n",
      "plt.plot(act_hour_num_dict['Voice Call Log'].values(),'gx-'); \n",
      "plt.plot(act_hour_num_dict['civilizationv_dx11'].values(),'bx-'); \n",
      "plt.plot(act_hour_num_dict['inbox.google.com'].values(),'yx-'); \n",
      "plt.show()"
     ],
     "language": "python",
     "metadata": {},
     "outputs": [
      {
       "metadata": {},
       "output_type": "display_data",
       "png": "[encoded data removed]",
       "text": [
        "<matplotlib.figure.Figure at 0x9321358>"
       ]
      }
     ],
     "prompt_number": 29
    },
    {
     "cell_type": "code",
     "collapsed": true,
     "input": [
      "act_dict['civilizationv_dx11']"
     ],
     "language": "python",
     "metadata": {},
     "outputs": []
    },
    {
     "cell_type": "code",
     "collapsed": true,
     "input": [
      "score_hour_num_dict = {}\n",
      "for act in act_hour_num_dict:\n",
      "    score = int(act_dict[act]['score'])\n",
      "    if score not in score_hour_num_dict:\n",
      "        score_hour_num_dict[score] = dict.fromkeys(range(0,24),0)\n",
      "    for hour in act_hour_num_dict[act]:\n",
      "        score_hour_num_dict[score][hour] +=act_hour_num_dict[act][hour]"
     ],
     "language": "python",
     "metadata": {},
     "outputs": [],
     "prompt_number": 31
    },
    {
     "cell_type": "code",
     "collapsed": true,
     "input": [
      "score_hour_num = {k:v.values() for k,v in score_hour_num_dict.items()}"
     ],
     "language": "python",
     "metadata": {},
     "outputs": [],
     "prompt_number": 32
    },
    {
     "cell_type": "code",
     "collapsed": true,
     "input": [
      "plt.plot(score_hour_num[-2],'rx-');\n",
      "plt.plot(score_hour_num[-1],'mx-');\n",
      "plt.plot(score_hour_num[0],'cx-');\n",
      "plt.plot(score_hour_num[1],'bx-');\n",
      "plt.plot(score_hour_num[2],'gx-');\n",
      "plt.show()"
     ],
     "language": "python",
     "metadata": {},
     "outputs": [
      {
       "metadata": {},
       "output_type": "display_data",
       "png": "[encoded data removed]",
       "text": [
        "<matplotlib.figure.Figure at 0x8f69048>"
       ]
      }
     ],
     "prompt_number": 33
    },
    {
     "cell_type": "markdown",
     "metadata": {},
     "source": [
      "### Start time vs total time spent\n",
      "X: start time\n",
      "\n",
      "Y: Cummulative Total Time spent"
     ]
    },
    {
     "cell_type": "code",
     "collapsed": true,
     "input": [
      "st_time_sp_time_dict = defaultdict(int)\n",
      "st_time_count_dict = defaultdict(int)\n",
      "for act in stuff:\n",
      "    st_time_sp_time_dict[act['st_time'].hour]+= act['time']/60\n",
      "    st_time_count_dict[act['st_time'].hour]+=1"
     ],
     "language": "python",
     "metadata": {},
     "outputs": [],
     "prompt_number": 34
    },
    {
     "cell_type": "code",
     "collapsed": false,
     "input": [
      "# Amount of time spent per start at a given hour\n",
      "plt.plot(st_time_sp_time_dict.keys(),st_time_sp_time_dict.values())\n",
      "plt.show()\n",
      "\n",
      "print max(st_time_sp_time_dict.values()) \n",
      "print min(st_time_sp_time_dict.values())"
     ],
     "language": "python",
     "metadata": {},
     "outputs": []
    },
    {
     "cell_type": "code",
     "collapsed": false,
     "input": [
      "# Number of apps started at a time [Cummulative]\n",
      "plt.plot(st_time_count_dict.keys(),st_time_count_dict.values(),'r')\n",
      "plt.show()"
     ],
     "language": "python",
     "metadata": {},
     "outputs": [
      {
       "metadata": {},
       "output_type": "display_data",
       "png": "[encoded data removed]",
       "text": [
        "<matplotlib.figure.Figure at 0x9722748>"
       ]
      }
     ],
     "prompt_number": 36
    },
    {
     "cell_type": "code",
     "collapsed": false,
     "input": [
      "# The first graph averaged by the second\n",
      "# i.e. the average time spent behind each start at a particular hour of the day\n",
      "avg_st_time_sp_time_dict = {}\n",
      "for time in st_time_sp_time_dict:\n",
      "    avg_st_time_sp_time_dict[time]=st_time_sp_time_dict[time]*1.0/st_time_count_dict[time]\n"
     ],
     "language": "python",
     "metadata": {},
     "outputs": [],
     "prompt_number": 37
    },
    {
     "cell_type": "code",
     "collapsed": false,
     "input": [
      "scaled_val = [item*450 for item in avg_st_time_sp_time_dict.values()]\n",
      "offset_keys= [10+np.abs(l-10) for l in avg_st_time_sp_time_dict.keys()]\n",
      "plt.plot(avg_st_time_sp_time_dict.keys(),scaled_val,'g-')\n",
      "plt.plot(avg_st_time_sp_time_dict.keys(),st_time_sp_time_dict.values(),'r')\n",
      "plt.show()"
     ],
     "language": "python",
     "metadata": {},
     "outputs": [
      {
       "metadata": {},
       "output_type": "display_data",
       "png": "[encoded data removed]",
       "text": [
        "<matplotlib.figure.Figure at 0x94efda0>"
       ]
      }
     ],
     "prompt_number": 38
    },
    {
     "cell_type": "markdown",
     "metadata": {},
     "source": [
      "#### ^ Graph\n",
      "So for apps started around"
     ]
    },
    {
     "cell_type": "code",
     "collapsed": false,
     "input": [
      "i = range(24)\n",
      "i =  i]\n",
      "i"
     ],
     "language": "python",
     "metadata": {},
     "outputs": [
      {
       "ename": "SyntaxError",
       "evalue": "invalid syntax (<ipython-input-39-81bdbcde622a>, line 2)",
       "output_type": "pyerr",
       "traceback": [
        "\u001b[1;36m  File \u001b[1;32m\"<ipython-input-39-81bdbcde622a>\"\u001b[1;36m, line \u001b[1;32m2\u001b[0m\n\u001b[1;33m    i =  i]\u001b[0m\n\u001b[1;37m          ^\u001b[0m\n\u001b[1;31mSyntaxError\u001b[0m\u001b[1;31m:\u001b[0m invalid syntax\n"
       ]
      }
     ],
     "prompt_number": 39
    },
    {
     "cell_type": "code",
     "collapsed": false,
     "input": [
      "act_time_per_start_dict = {}\n",
      "for act in act_dict:\n",
      "    time_sum = act_dict[act]['total_time']\n",
      "    num_time\n",
      "    act_time_per_start_dict[act]"
     ],
     "language": "python",
     "metadata": {},
     "outputs": []
    },
    {
     "cell_type": "code",
     "collapsed": false,
     "input": [
      "act_dict[act]"
     ],
     "language": "python",
     "metadata": {},
     "outputs": []
    },
    {
     "cell_type": "markdown",
     "metadata": {},
     "source": [
      "### Average Time spent per activity"
     ]
    },
    {
     "cell_type": "code",
     "collapsed": false,
     "input": [
      "activity_desc_dict = {}\n",
      "for activity in stuff:\n",
      "    if activity['name'] not in activity_desc_dict: activity_desc_dict[activity['name']] = [] \n",
      "    activity_desc_dict[activity['name']].append(activity)"
     ],
     "language": "python",
     "metadata": {},
     "outputs": [],
     "prompt_number": 7
    },
    {
     "cell_type": "code",
     "collapsed": false,
     "input": [
      "time_activity = {}\n",
      "for activity in stuff:\n",
      "    if activity['st_time'] not in time_activity:time_activity[activity['st_time']] = []\n",
      "    time_activity[activity['st_time']].append(activity)\n",
      "        "
     ],
     "language": "python",
     "metadata": {},
     "outputs": [],
     "prompt_number": 8
    },
    {
     "cell_type": "code",
     "collapsed": false,
     "input": [
      "time_activity.keys()"
     ],
     "language": "python",
     "metadata": {},
     "outputs": []
    },
    {
     "cell_type": "code",
     "collapsed": false,
     "input": [
      "import matplotlib\n",
      "import matplotlib.pyplot as plt"
     ],
     "language": "python",
     "metadata": {},
     "outputs": [],
     "prompt_number": 10
    },
    {
     "cell_type": "code",
     "collapsed": false,
     "input": [
      "# Plotting number of distinct activities for each 5 minute period \n",
      "dates = matplotlib.dates.date2num(sorted(time_activity.keys()))\n",
      "plt.plot_date(dates, [len(time_activity[k]) for k in sorted(time_activity.keys())],'-')\n",
      "plt.show()"
     ],
     "language": "python",
     "metadata": {},
     "outputs": [],
     "prompt_number": 12
    },
    {
     "cell_type": "code",
     "collapsed": false,
     "input": [
      "a = [1,2,3]\n",
      "b = [3,2,5]\n",
      "set(a).difference(set(b))"
     ],
     "language": "python",
     "metadata": {},
     "outputs": [
      {
       "metadata": {},
       "output_type": "pyout",
       "prompt_number": 13,
       "text": [
        "{1}"
       ]
      }
     ],
     "prompt_number": 13
    },
    {
     "cell_type": "code",
     "collapsed": false,
     "input": [
      "act_time = {}\n",
      "current = {}\n",
      "for time in sorted(time_activity.keys()):\n",
      "    temp_current = {}\n",
      "    for activity in time_activity[time]:\n",
      "        if activity['name'] in current:\n",
      "            temp_current[activity['name']] = current[activity['name']]\n",
      "        else:\n",
      "            temp_current[activity['name']] = time\n",
      "    \n",
      "    # Removing the completed activities\n",
      "    for activity in set(current.keys()).difference(temp_current.keys()):\n",
      "        if activity not in act_time : act_time[activity] = []\n",
      "        act_time[activity].append((current[activity], time))\n",
      "    current  = temp_current\n",
      "\n",
      "# Finally writing current to the dict\n",
      "for activity in current.keys():\n",
      "    if activity not in act_time : act_time[activity] = []\n",
      "    act_time[activity].append((current[activity], time))"
     ],
     "language": "python",
     "metadata": {},
     "outputs": [],
     "prompt_number": 14
    },
    {
     "cell_type": "code",
     "collapsed": false,
     "input": [
      "# Now converting the above to a time difference, so we now have {activity : [time_spent_1, time_spent_2]}\n",
      "time_diff = {activity:[start_stop[1] - start_stop[0] for start_stop in act_time[activity]] for activity in  act_time}"
     ],
     "language": "python",
     "metadata": {},
     "outputs": [],
     "prompt_number": 15
    },
    {
     "cell_type": "code",
     "collapsed": false,
     "input": [
      "[entr for entr in time_diff.keys() if len(time_diff[entr]) > 10] "
     ],
     "language": "python",
     "metadata": {},
     "outputs": []
    },
    {
     "cell_type": "code",
     "collapsed": false,
     "input": [
      "time_diff_minutes = {entr:[diff.total_seconds()*1.0/60 for diff in time_diff[entr]] for entr in time_diff}"
     ],
     "language": "python",
     "metadata": {},
     "outputs": [],
     "prompt_number": 17
    },
    {
     "cell_type": "code",
     "collapsed": false,
     "input": [
      "# Average Time Spent for the given activity\n",
      "np.mean(time_diff_minutes['civilizationv_dx11'])"
     ],
     "language": "python",
     "metadata": {},
     "outputs": [
      {
       "metadata": {},
       "output_type": "pyout",
       "prompt_number": 18,
       "text": [
        "320.0"
       ]
      }
     ],
     "prompt_number": 18
    },
    {
     "cell_type": "code",
     "collapsed": false,
     "input": [
      "l = [item for item in stuff if item['name'] == 'civilizationv_dx11']"
     ],
     "language": "python",
     "metadata": {},
     "outputs": [],
     "prompt_number": 19
    },
    {
     "cell_type": "code",
     "collapsed": false,
     "input": [
      "# {start : time_spent}\n",
      "d = {item['st_time']:item['time'] for item in l}"
     ],
     "language": "python",
     "metadata": {},
     "outputs": [],
     "prompt_number": 20
    },
    {
     "cell_type": "code",
     "collapsed": false,
     "input": [
      "[(start_time,d[start_time]) for start_time in sorted(d.keys())]"
     ],
     "language": "python",
     "metadata": {},
     "outputs": []
    },
    {
     "cell_type": "code",
     "collapsed": false,
     "input": [
      "time_activity[datetime.datetime(2015, 2, 3, 2, 30)]"
     ],
     "language": "python",
     "metadata": {},
     "outputs": [
      {
       "ename": "NameError",
       "evalue": "name 'datetime' is not defined",
       "output_type": "pyerr",
       "traceback": [
        "\u001b[1;31m---------------------------------------------------------------------------\u001b[0m\n\u001b[1;31mNameError\u001b[0m                                 Traceback (most recent call last)",
        "\u001b[1;32m<ipython-input-22-6230a8d6101f>\u001b[0m in \u001b[0;36m<module>\u001b[1;34m()\u001b[0m\n\u001b[1;32m----> 1\u001b[1;33m \u001b[0mtime_activity\u001b[0m\u001b[1;33m[\u001b[0m\u001b[0mdatetime\u001b[0m\u001b[1;33m.\u001b[0m\u001b[0mdatetime\u001b[0m\u001b[1;33m(\u001b[0m\u001b[1;36m2015\u001b[0m\u001b[1;33m,\u001b[0m \u001b[1;36m2\u001b[0m\u001b[1;33m,\u001b[0m \u001b[1;36m3\u001b[0m\u001b[1;33m,\u001b[0m \u001b[1;36m2\u001b[0m\u001b[1;33m,\u001b[0m \u001b[1;36m30\u001b[0m\u001b[1;33m)\u001b[0m\u001b[1;33m]\u001b[0m\u001b[1;33m\u001b[0m\u001b[0m\n\u001b[0m",
        "\u001b[1;31mNameError\u001b[0m: name 'datetime' is not defined"
       ]
      }
     ],
     "prompt_number": 22
    },
    {
     "cell_type": "code",
     "collapsed": false,
     "input": [
      "plt.plot(sorted([ sum([activity['time'] for activity in time_activity[time]])  for time in time_activity if sum([activity['time'] for activity in time_activity[time]]) >0]  ))\n",
      "plt.xlabel('index')\n",
      "plt.ylabel('Sum of Time Spent per activity in a 5 minute interval (seconds)')\n",
      "plt.show()"
     ],
     "language": "python",
     "metadata": {},
     "outputs": [],
     "prompt_number": 29
    },
    {
     "cell_type": "code",
     "collapsed": false,
     "input": [
      "hard_times = [ time  for time in time_activity if sum([activity['time'] for activity in time_activity[time]]) > 900]  \n",
      "print hard_times"
     ],
     "language": "python",
     "metadata": {},
     "outputs": [
      {
       "output_type": "stream",
       "stream": "stdout",
       "text": [
        "[datetime.datetime(2015, 2, 10, 16, 0), datetime.datetime(2015, 2, 10, 16, 5), datetime.datetime(2015, 2, 10, 15, 45), datetime.datetime(2015, 2, 10, 15, 40), datetime.datetime(2015, 2, 10, 15, 25), datetime.datetime(2015, 2, 10, 15, 50), datetime.datetime(2015, 2, 10, 15, 30), datetime.datetime(2015, 2, 10, 15, 55), datetime.datetime(2015, 2, 10, 16, 10), datetime.datetime(2015, 2, 10, 15, 35), datetime.datetime(2015, 2, 10, 15, 20)]\n"
       ]
      }
     ],
     "prompt_number": 40
    },
    {
     "cell_type": "code",
     "collapsed": false,
     "input": [
      "hard_activities = [(time,activity['time'],activity['name']) for activity in time_activity[time] for time in hard_times]\n",
      "#for act in set(hard_activities):\n",
      "#    print hard_activities.count(act),act\n",
      "hard_activities = sorted(hard_activities, key = lambda x:x[0])\n",
      "print '\\n'.join(['\\t'.join([str(item) for item in hard_activity]) for hard_activity in hard_activities])"
     ],
     "language": "python",
     "metadata": {},
     "outputs": []
    },
    {
     "cell_type": "code",
     "collapsed": false,
     "input": [
      "hard_times"
     ],
     "language": "python",
     "metadata": {},
     "outputs": [],
     "prompt_number": 205
    },
    {
     "cell_type": "markdown",
     "metadata": {},
     "source": [
      "Want to change the computation of activity continuation, by the use of time_spent = 300, from the currently used of [if activity is done in two adjacent 5-minute period, it is the same activity, with this approach, we consider activities used for a few seconds, in two adjacent time periods as one continuous 10-minute activity]. Problem : For some of the 5-minute intervals, the sum of the activities well exceeds 300, so we do not know which activity to take forward. Asked online at the [forums](http://help.rescuetime.com/discussions/suggestions/4542-time-spent-per-activity)"
     ]
    },
    {
     "cell_type": "code",
     "collapsed": false,
     "input": [],
     "language": "python",
     "metadata": {},
     "outputs": []
    }
   ],
   "metadata": {}
  }
 ]
}